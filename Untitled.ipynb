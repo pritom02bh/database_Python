{
 "cells": [
  {
   "cell_type": "code",
   "execution_count": 4,
   "id": "eebfa7f6-2d02-4ea9-8de1-085de76cf8d8",
   "metadata": {},
   "outputs": [
    {
     "name": "stdout",
     "output_type": "stream",
     "text": [
      "Movie Title: Enemy Behind\n",
      "Movie Title: Transformers\n",
      "Movie Title: Trigun\n",
      "Movie Title: Ishtar\n"
     ]
    }
   ],
   "source": [
    "import xml.etree.ElementTree as ET\n",
    "\n",
    "# Load the XML file\n",
    "tree = ET.parse('movies.xml')\n",
    "root = tree.getroot()\n",
    "\n",
    "for movie in root.findall('.//movie'):\n",
    "    title = movie.get('title')\n",
    "    print(f\"Movie Title: {title}\")"
   ]
  },
  {
   "cell_type": "code",
   "execution_count": 3,
   "id": "175cbe42-9dd4-40f7-b952-54a6ef2ab90e",
   "metadata": {},
   "outputs": [
    {
     "ename": "AttributeError",
     "evalue": "'NoneType' object has no attribute 'text'",
     "output_type": "error",
     "traceback": [
      "\u001b[1;31m---------------------------------------------------------------------------\u001b[0m",
      "\u001b[1;31mAttributeError\u001b[0m                            Traceback (most recent call last)",
      "Cell \u001b[1;32mIn[3], line 16\u001b[0m\n\u001b[0;32m     13\u001b[0m rating \u001b[38;5;241m=\u001b[39m movie\u001b[38;5;241m.\u001b[39mfind(\u001b[38;5;124m\"\u001b[39m\u001b[38;5;124mrating\u001b[39m\u001b[38;5;124m\"\u001b[39m)\u001b[38;5;241m.\u001b[39mtext\n\u001b[0;32m     15\u001b[0m \u001b[38;5;66;03m# Print the movie title\u001b[39;00m\n\u001b[1;32m---> 16\u001b[0m \u001b[38;5;28mprint\u001b[39m(\u001b[38;5;124mf\u001b[39m\u001b[38;5;124m'\u001b[39m\u001b[38;5;124mMovie Title: \u001b[39m\u001b[38;5;132;01m{\u001b[39;00mmovie\u001b[38;5;241m.\u001b[39mfind(\u001b[38;5;124m\"\u001b[39m\u001b[38;5;124mtitle\u001b[39m\u001b[38;5;124m\"\u001b[39m)\u001b[38;5;241m.\u001b[39mtext\u001b[38;5;132;01m}\u001b[39;00m\u001b[38;5;124m'\u001b[39m)\n\u001b[0;32m     18\u001b[0m \u001b[38;5;66;03m# Check if the movie is rated as 'R'\u001b[39;00m\n\u001b[0;32m     19\u001b[0m \u001b[38;5;28;01mif\u001b[39;00m rating \u001b[38;5;241m==\u001b[39m \u001b[38;5;124m'\u001b[39m\u001b[38;5;124mR\u001b[39m\u001b[38;5;124m'\u001b[39m:\n",
      "\u001b[1;31mAttributeError\u001b[0m: 'NoneType' object has no attribute 'text'"
     ]
    }
   ],
   "source": [
    "import xml.etree.ElementTree as ET\n",
    "\n",
    "# Load the XML file\n",
    "tree = ET.parse('movies.xml')\n",
    "root = tree.getroot()\n",
    "\n",
    "# Initialize a count for 'R'-rated movies\n",
    "r_rated_count = 0\n",
    "\n",
    "# Iterate through movie elements\n",
    "for movie in root.findall(\".//movie\"):\n",
    "    # Get the rating for each movie\n",
    "    rating = movie.find(\"rating\").text\n",
    "\n",
    "    # Print the movie title\n",
    "    print(f'Movie Title: {movie.find(\"title\").text}')\n",
    "\n",
    "    # Check if the movie is rated as 'R'\n",
    "    if rating == 'R':\n",
    "        r_rated_count += 1\n",
    "\n",
    "# Print the total count of 'R'-rated movies\n",
    "print(f\"Total 'R'-rated movies: {r_rated_count}\")\n",
    "\n",
    "\n"
   ]
  },
  {
   "cell_type": "code",
   "execution_count": null,
   "id": "ca2d8fb3-7006-4c55-9fb2-16f24affd3dd",
   "metadata": {},
   "outputs": [],
   "source": []
  }
 ],
 "metadata": {
  "kernelspec": {
   "display_name": "Python 3 (ipykernel)",
   "language": "python",
   "name": "python3"
  },
  "language_info": {
   "codemirror_mode": {
    "name": "ipython",
    "version": 3
   },
   "file_extension": ".py",
   "mimetype": "text/x-python",
   "name": "python",
   "nbconvert_exporter": "python",
   "pygments_lexer": "ipython3",
   "version": "3.8.17"
  }
 },
 "nbformat": 4,
 "nbformat_minor": 5
}
